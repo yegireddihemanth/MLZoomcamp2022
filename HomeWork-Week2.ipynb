{
 "cells": [
  {
   "cell_type": "code",
   "execution_count": 1,
   "id": "0f984fb3",
   "metadata": {},
   "outputs": [],
   "source": [
    "import numpy as np\n",
    "import pandas as pd\n",
    "import matplotlib.pyplot as plt\n",
    "import seaborn as sns\n",
    "%matplotlib inline"
   ]
  },
  {
   "cell_type": "code",
   "execution_count": 2,
   "id": "83c93f3a",
   "metadata": {},
   "outputs": [
    {
     "data": {
      "text/html": [
       "<div>\n",
       "<style scoped>\n",
       "    .dataframe tbody tr th:only-of-type {\n",
       "        vertical-align: middle;\n",
       "    }\n",
       "\n",
       "    .dataframe tbody tr th {\n",
       "        vertical-align: top;\n",
       "    }\n",
       "\n",
       "    .dataframe thead th {\n",
       "        text-align: right;\n",
       "    }\n",
       "</style>\n",
       "<table border=\"1\" class=\"dataframe\">\n",
       "  <thead>\n",
       "    <tr style=\"text-align: right;\">\n",
       "      <th></th>\n",
       "      <th>longitude</th>\n",
       "      <th>latitude</th>\n",
       "      <th>housing_median_age</th>\n",
       "      <th>total_rooms</th>\n",
       "      <th>total_bedrooms</th>\n",
       "      <th>population</th>\n",
       "      <th>households</th>\n",
       "      <th>median_income</th>\n",
       "      <th>median_house_value</th>\n",
       "      <th>ocean_proximity</th>\n",
       "    </tr>\n",
       "  </thead>\n",
       "  <tbody>\n",
       "    <tr>\n",
       "      <th>0</th>\n",
       "      <td>-122.23</td>\n",
       "      <td>37.88</td>\n",
       "      <td>41.0</td>\n",
       "      <td>880.0</td>\n",
       "      <td>129.0</td>\n",
       "      <td>322.0</td>\n",
       "      <td>126.0</td>\n",
       "      <td>8.3252</td>\n",
       "      <td>452600.0</td>\n",
       "      <td>NEAR BAY</td>\n",
       "    </tr>\n",
       "    <tr>\n",
       "      <th>1</th>\n",
       "      <td>-122.22</td>\n",
       "      <td>37.86</td>\n",
       "      <td>21.0</td>\n",
       "      <td>7099.0</td>\n",
       "      <td>1106.0</td>\n",
       "      <td>2401.0</td>\n",
       "      <td>1138.0</td>\n",
       "      <td>8.3014</td>\n",
       "      <td>358500.0</td>\n",
       "      <td>NEAR BAY</td>\n",
       "    </tr>\n",
       "    <tr>\n",
       "      <th>2</th>\n",
       "      <td>-122.24</td>\n",
       "      <td>37.85</td>\n",
       "      <td>52.0</td>\n",
       "      <td>1467.0</td>\n",
       "      <td>190.0</td>\n",
       "      <td>496.0</td>\n",
       "      <td>177.0</td>\n",
       "      <td>7.2574</td>\n",
       "      <td>352100.0</td>\n",
       "      <td>NEAR BAY</td>\n",
       "    </tr>\n",
       "    <tr>\n",
       "      <th>3</th>\n",
       "      <td>-122.25</td>\n",
       "      <td>37.85</td>\n",
       "      <td>52.0</td>\n",
       "      <td>1274.0</td>\n",
       "      <td>235.0</td>\n",
       "      <td>558.0</td>\n",
       "      <td>219.0</td>\n",
       "      <td>5.6431</td>\n",
       "      <td>341300.0</td>\n",
       "      <td>NEAR BAY</td>\n",
       "    </tr>\n",
       "    <tr>\n",
       "      <th>4</th>\n",
       "      <td>-122.25</td>\n",
       "      <td>37.85</td>\n",
       "      <td>52.0</td>\n",
       "      <td>1627.0</td>\n",
       "      <td>280.0</td>\n",
       "      <td>565.0</td>\n",
       "      <td>259.0</td>\n",
       "      <td>3.8462</td>\n",
       "      <td>342200.0</td>\n",
       "      <td>NEAR BAY</td>\n",
       "    </tr>\n",
       "    <tr>\n",
       "      <th>...</th>\n",
       "      <td>...</td>\n",
       "      <td>...</td>\n",
       "      <td>...</td>\n",
       "      <td>...</td>\n",
       "      <td>...</td>\n",
       "      <td>...</td>\n",
       "      <td>...</td>\n",
       "      <td>...</td>\n",
       "      <td>...</td>\n",
       "      <td>...</td>\n",
       "    </tr>\n",
       "    <tr>\n",
       "      <th>20635</th>\n",
       "      <td>-121.09</td>\n",
       "      <td>39.48</td>\n",
       "      <td>25.0</td>\n",
       "      <td>1665.0</td>\n",
       "      <td>374.0</td>\n",
       "      <td>845.0</td>\n",
       "      <td>330.0</td>\n",
       "      <td>1.5603</td>\n",
       "      <td>78100.0</td>\n",
       "      <td>INLAND</td>\n",
       "    </tr>\n",
       "    <tr>\n",
       "      <th>20636</th>\n",
       "      <td>-121.21</td>\n",
       "      <td>39.49</td>\n",
       "      <td>18.0</td>\n",
       "      <td>697.0</td>\n",
       "      <td>150.0</td>\n",
       "      <td>356.0</td>\n",
       "      <td>114.0</td>\n",
       "      <td>2.5568</td>\n",
       "      <td>77100.0</td>\n",
       "      <td>INLAND</td>\n",
       "    </tr>\n",
       "    <tr>\n",
       "      <th>20637</th>\n",
       "      <td>-121.22</td>\n",
       "      <td>39.43</td>\n",
       "      <td>17.0</td>\n",
       "      <td>2254.0</td>\n",
       "      <td>485.0</td>\n",
       "      <td>1007.0</td>\n",
       "      <td>433.0</td>\n",
       "      <td>1.7000</td>\n",
       "      <td>92300.0</td>\n",
       "      <td>INLAND</td>\n",
       "    </tr>\n",
       "    <tr>\n",
       "      <th>20638</th>\n",
       "      <td>-121.32</td>\n",
       "      <td>39.43</td>\n",
       "      <td>18.0</td>\n",
       "      <td>1860.0</td>\n",
       "      <td>409.0</td>\n",
       "      <td>741.0</td>\n",
       "      <td>349.0</td>\n",
       "      <td>1.8672</td>\n",
       "      <td>84700.0</td>\n",
       "      <td>INLAND</td>\n",
       "    </tr>\n",
       "    <tr>\n",
       "      <th>20639</th>\n",
       "      <td>-121.24</td>\n",
       "      <td>39.37</td>\n",
       "      <td>16.0</td>\n",
       "      <td>2785.0</td>\n",
       "      <td>616.0</td>\n",
       "      <td>1387.0</td>\n",
       "      <td>530.0</td>\n",
       "      <td>2.3886</td>\n",
       "      <td>89400.0</td>\n",
       "      <td>INLAND</td>\n",
       "    </tr>\n",
       "  </tbody>\n",
       "</table>\n",
       "<p>20640 rows × 10 columns</p>\n",
       "</div>"
      ],
      "text/plain": [
       "       longitude  latitude  housing_median_age  total_rooms  total_bedrooms  \\\n",
       "0        -122.23     37.88                41.0        880.0           129.0   \n",
       "1        -122.22     37.86                21.0       7099.0          1106.0   \n",
       "2        -122.24     37.85                52.0       1467.0           190.0   \n",
       "3        -122.25     37.85                52.0       1274.0           235.0   \n",
       "4        -122.25     37.85                52.0       1627.0           280.0   \n",
       "...          ...       ...                 ...          ...             ...   \n",
       "20635    -121.09     39.48                25.0       1665.0           374.0   \n",
       "20636    -121.21     39.49                18.0        697.0           150.0   \n",
       "20637    -121.22     39.43                17.0       2254.0           485.0   \n",
       "20638    -121.32     39.43                18.0       1860.0           409.0   \n",
       "20639    -121.24     39.37                16.0       2785.0           616.0   \n",
       "\n",
       "       population  households  median_income  median_house_value  \\\n",
       "0           322.0       126.0         8.3252            452600.0   \n",
       "1          2401.0      1138.0         8.3014            358500.0   \n",
       "2           496.0       177.0         7.2574            352100.0   \n",
       "3           558.0       219.0         5.6431            341300.0   \n",
       "4           565.0       259.0         3.8462            342200.0   \n",
       "...           ...         ...            ...                 ...   \n",
       "20635       845.0       330.0         1.5603             78100.0   \n",
       "20636       356.0       114.0         2.5568             77100.0   \n",
       "20637      1007.0       433.0         1.7000             92300.0   \n",
       "20638       741.0       349.0         1.8672             84700.0   \n",
       "20639      1387.0       530.0         2.3886             89400.0   \n",
       "\n",
       "      ocean_proximity  \n",
       "0            NEAR BAY  \n",
       "1            NEAR BAY  \n",
       "2            NEAR BAY  \n",
       "3            NEAR BAY  \n",
       "4            NEAR BAY  \n",
       "...               ...  \n",
       "20635          INLAND  \n",
       "20636          INLAND  \n",
       "20637          INLAND  \n",
       "20638          INLAND  \n",
       "20639          INLAND  \n",
       "\n",
       "[20640 rows x 10 columns]"
      ]
     },
     "execution_count": 2,
     "metadata": {},
     "output_type": "execute_result"
    }
   ],
   "source": [
    "df = pd.read_csv('housing.csv')\n",
    "df"
   ]
  },
  {
   "cell_type": "code",
   "execution_count": 3,
   "id": "b3edf299",
   "metadata": {},
   "outputs": [
    {
     "data": {
      "text/plain": [
       "(20640, 10)"
      ]
     },
     "execution_count": 3,
     "metadata": {},
     "output_type": "execute_result"
    }
   ],
   "source": [
    "df.shape"
   ]
  },
  {
   "cell_type": "code",
   "execution_count": 4,
   "id": "a337873d",
   "metadata": {},
   "outputs": [],
   "source": [
    "df = df[['latitude', 'longitude', 'housing_median_age', 'total_rooms', 'total_bedrooms', 'population', 'households', 'median_income', 'median_house_value']]"
   ]
  },
  {
   "cell_type": "code",
   "execution_count": 5,
   "id": "128d3f05",
   "metadata": {},
   "outputs": [
    {
     "data": {
      "text/html": [
       "<div>\n",
       "<style scoped>\n",
       "    .dataframe tbody tr th:only-of-type {\n",
       "        vertical-align: middle;\n",
       "    }\n",
       "\n",
       "    .dataframe tbody tr th {\n",
       "        vertical-align: top;\n",
       "    }\n",
       "\n",
       "    .dataframe thead th {\n",
       "        text-align: right;\n",
       "    }\n",
       "</style>\n",
       "<table border=\"1\" class=\"dataframe\">\n",
       "  <thead>\n",
       "    <tr style=\"text-align: right;\">\n",
       "      <th></th>\n",
       "      <th>latitude</th>\n",
       "      <th>longitude</th>\n",
       "      <th>housing_median_age</th>\n",
       "      <th>total_rooms</th>\n",
       "      <th>total_bedrooms</th>\n",
       "      <th>population</th>\n",
       "      <th>households</th>\n",
       "      <th>median_income</th>\n",
       "      <th>median_house_value</th>\n",
       "    </tr>\n",
       "  </thead>\n",
       "  <tbody>\n",
       "    <tr>\n",
       "      <th>0</th>\n",
       "      <td>37.88</td>\n",
       "      <td>-122.23</td>\n",
       "      <td>41.0</td>\n",
       "      <td>880.0</td>\n",
       "      <td>129.0</td>\n",
       "      <td>322.0</td>\n",
       "      <td>126.0</td>\n",
       "      <td>8.3252</td>\n",
       "      <td>452600.0</td>\n",
       "    </tr>\n",
       "    <tr>\n",
       "      <th>1</th>\n",
       "      <td>37.86</td>\n",
       "      <td>-122.22</td>\n",
       "      <td>21.0</td>\n",
       "      <td>7099.0</td>\n",
       "      <td>1106.0</td>\n",
       "      <td>2401.0</td>\n",
       "      <td>1138.0</td>\n",
       "      <td>8.3014</td>\n",
       "      <td>358500.0</td>\n",
       "    </tr>\n",
       "    <tr>\n",
       "      <th>2</th>\n",
       "      <td>37.85</td>\n",
       "      <td>-122.24</td>\n",
       "      <td>52.0</td>\n",
       "      <td>1467.0</td>\n",
       "      <td>190.0</td>\n",
       "      <td>496.0</td>\n",
       "      <td>177.0</td>\n",
       "      <td>7.2574</td>\n",
       "      <td>352100.0</td>\n",
       "    </tr>\n",
       "    <tr>\n",
       "      <th>3</th>\n",
       "      <td>37.85</td>\n",
       "      <td>-122.25</td>\n",
       "      <td>52.0</td>\n",
       "      <td>1274.0</td>\n",
       "      <td>235.0</td>\n",
       "      <td>558.0</td>\n",
       "      <td>219.0</td>\n",
       "      <td>5.6431</td>\n",
       "      <td>341300.0</td>\n",
       "    </tr>\n",
       "    <tr>\n",
       "      <th>4</th>\n",
       "      <td>37.85</td>\n",
       "      <td>-122.25</td>\n",
       "      <td>52.0</td>\n",
       "      <td>1627.0</td>\n",
       "      <td>280.0</td>\n",
       "      <td>565.0</td>\n",
       "      <td>259.0</td>\n",
       "      <td>3.8462</td>\n",
       "      <td>342200.0</td>\n",
       "    </tr>\n",
       "  </tbody>\n",
       "</table>\n",
       "</div>"
      ],
      "text/plain": [
       "   latitude  longitude  housing_median_age  total_rooms  total_bedrooms  \\\n",
       "0     37.88    -122.23                41.0        880.0           129.0   \n",
       "1     37.86    -122.22                21.0       7099.0          1106.0   \n",
       "2     37.85    -122.24                52.0       1467.0           190.0   \n",
       "3     37.85    -122.25                52.0       1274.0           235.0   \n",
       "4     37.85    -122.25                52.0       1627.0           280.0   \n",
       "\n",
       "   population  households  median_income  median_house_value  \n",
       "0       322.0       126.0         8.3252            452600.0  \n",
       "1      2401.0      1138.0         8.3014            358500.0  \n",
       "2       496.0       177.0         7.2574            352100.0  \n",
       "3       558.0       219.0         5.6431            341300.0  \n",
       "4       565.0       259.0         3.8462            342200.0  "
      ]
     },
     "execution_count": 5,
     "metadata": {},
     "output_type": "execute_result"
    }
   ],
   "source": [
    "df.head()"
   ]
  },
  {
   "cell_type": "code",
   "execution_count": 7,
   "id": "472423ec",
   "metadata": {},
   "outputs": [
    {
     "data": {
      "text/plain": [
       "latitude              False\n",
       "longitude             False\n",
       "housing_median_age    False\n",
       "total_rooms           False\n",
       "total_bedrooms         True\n",
       "population            False\n",
       "households            False\n",
       "median_income         False\n",
       "median_house_value    False\n",
       "dtype: bool"
      ]
     },
     "execution_count": 7,
     "metadata": {},
     "output_type": "execute_result"
    }
   ],
   "source": [
    "df.isna().any()"
   ]
  },
  {
   "cell_type": "code",
   "execution_count": 8,
   "id": "541c3244",
   "metadata": {},
   "outputs": [
    {
     "data": {
      "text/plain": [
       "latitude                0\n",
       "longitude               0\n",
       "housing_median_age      0\n",
       "total_rooms             0\n",
       "total_bedrooms        207\n",
       "population              0\n",
       "households              0\n",
       "median_income           0\n",
       "median_house_value      0\n",
       "dtype: int64"
      ]
     },
     "execution_count": 8,
     "metadata": {},
     "output_type": "execute_result"
    }
   ],
   "source": [
    "df.isnull().sum()"
   ]
  },
  {
   "cell_type": "markdown",
   "id": "fe2a4321",
   "metadata": {},
   "source": [
    "### Question 2"
   ]
  },
  {
   "cell_type": "code",
   "execution_count": 9,
   "id": "7aba2e11",
   "metadata": {},
   "outputs": [
    {
     "data": {
      "text/plain": [
       "1166.0"
      ]
     },
     "execution_count": 9,
     "metadata": {},
     "output_type": "execute_result"
    }
   ],
   "source": [
    "df.population.median()"
   ]
  },
  {
   "cell_type": "code",
   "execution_count": 10,
   "id": "b3812dc7",
   "metadata": {},
   "outputs": [
    {
     "data": {
      "text/plain": [
       "1166.0"
      ]
     },
     "execution_count": 10,
     "metadata": {},
     "output_type": "execute_result"
    }
   ],
   "source": [
    "np.median(df['population'])"
   ]
  },
  {
   "cell_type": "code",
   "execution_count": null,
   "id": "282387c7",
   "metadata": {},
   "outputs": [],
   "source": []
  },
  {
   "cell_type": "code",
   "execution_count": 11,
   "id": "f2db297a",
   "metadata": {},
   "outputs": [
    {
     "data": {
      "text/plain": [
       "(12384, 4128, 4128)"
      ]
     },
     "execution_count": 11,
     "metadata": {},
     "output_type": "execute_result"
    }
   ],
   "source": [
    "n = len(df)\n",
    "\n",
    "n_val = int(n * 0.2)\n",
    "n_test = int(n * 0.2)\n",
    "n_train = n - n_val - n_test\n",
    "n_train, n_val, n_test"
   ]
  },
  {
   "cell_type": "code",
   "execution_count": 12,
   "id": "8c882173",
   "metadata": {},
   "outputs": [
    {
     "data": {
      "text/plain": [
       "array([    0,     1,     2, ..., 20637, 20638, 20639])"
      ]
     },
     "execution_count": 12,
     "metadata": {},
     "output_type": "execute_result"
    }
   ],
   "source": [
    "idx = np.arange(n)\n",
    "idx"
   ]
  },
  {
   "cell_type": "code",
   "execution_count": 13,
   "id": "a3805cd4",
   "metadata": {},
   "outputs": [],
   "source": [
    "np.random.seed(42)\n",
    "np.random.shuffle(idx)"
   ]
  },
  {
   "cell_type": "code",
   "execution_count": 14,
   "id": "4c0a660e",
   "metadata": {},
   "outputs": [
    {
     "data": {
      "text/html": [
       "<div>\n",
       "<style scoped>\n",
       "    .dataframe tbody tr th:only-of-type {\n",
       "        vertical-align: middle;\n",
       "    }\n",
       "\n",
       "    .dataframe tbody tr th {\n",
       "        vertical-align: top;\n",
       "    }\n",
       "\n",
       "    .dataframe thead th {\n",
       "        text-align: right;\n",
       "    }\n",
       "</style>\n",
       "<table border=\"1\" class=\"dataframe\">\n",
       "  <thead>\n",
       "    <tr style=\"text-align: right;\">\n",
       "      <th></th>\n",
       "      <th>latitude</th>\n",
       "      <th>longitude</th>\n",
       "      <th>housing_median_age</th>\n",
       "      <th>total_rooms</th>\n",
       "      <th>total_bedrooms</th>\n",
       "      <th>population</th>\n",
       "      <th>households</th>\n",
       "      <th>median_income</th>\n",
       "      <th>median_house_value</th>\n",
       "    </tr>\n",
       "  </thead>\n",
       "  <tbody>\n",
       "    <tr>\n",
       "      <th>20046</th>\n",
       "      <td>36.06</td>\n",
       "      <td>-119.01</td>\n",
       "      <td>25.0</td>\n",
       "      <td>1505.0</td>\n",
       "      <td>NaN</td>\n",
       "      <td>1392.0</td>\n",
       "      <td>359.0</td>\n",
       "      <td>1.6812</td>\n",
       "      <td>47700.0</td>\n",
       "    </tr>\n",
       "    <tr>\n",
       "      <th>3024</th>\n",
       "      <td>35.14</td>\n",
       "      <td>-119.46</td>\n",
       "      <td>30.0</td>\n",
       "      <td>2943.0</td>\n",
       "      <td>NaN</td>\n",
       "      <td>1565.0</td>\n",
       "      <td>584.0</td>\n",
       "      <td>2.5313</td>\n",
       "      <td>45800.0</td>\n",
       "    </tr>\n",
       "    <tr>\n",
       "      <th>15663</th>\n",
       "      <td>37.80</td>\n",
       "      <td>-122.44</td>\n",
       "      <td>52.0</td>\n",
       "      <td>3830.0</td>\n",
       "      <td>NaN</td>\n",
       "      <td>1310.0</td>\n",
       "      <td>963.0</td>\n",
       "      <td>3.4801</td>\n",
       "      <td>500001.0</td>\n",
       "    </tr>\n",
       "    <tr>\n",
       "      <th>20484</th>\n",
       "      <td>34.28</td>\n",
       "      <td>-118.72</td>\n",
       "      <td>17.0</td>\n",
       "      <td>3051.0</td>\n",
       "      <td>NaN</td>\n",
       "      <td>1705.0</td>\n",
       "      <td>495.0</td>\n",
       "      <td>5.7376</td>\n",
       "      <td>218600.0</td>\n",
       "    </tr>\n",
       "    <tr>\n",
       "      <th>9814</th>\n",
       "      <td>36.62</td>\n",
       "      <td>-121.93</td>\n",
       "      <td>34.0</td>\n",
       "      <td>2351.0</td>\n",
       "      <td>NaN</td>\n",
       "      <td>1063.0</td>\n",
       "      <td>428.0</td>\n",
       "      <td>3.7250</td>\n",
       "      <td>278000.0</td>\n",
       "    </tr>\n",
       "    <tr>\n",
       "      <th>...</th>\n",
       "      <td>...</td>\n",
       "      <td>...</td>\n",
       "      <td>...</td>\n",
       "      <td>...</td>\n",
       "      <td>...</td>\n",
       "      <td>...</td>\n",
       "      <td>...</td>\n",
       "      <td>...</td>\n",
       "      <td>...</td>\n",
       "    </tr>\n",
       "    <tr>\n",
       "      <th>11284</th>\n",
       "      <td>33.78</td>\n",
       "      <td>-117.96</td>\n",
       "      <td>35.0</td>\n",
       "      <td>1330.0</td>\n",
       "      <td>201.0</td>\n",
       "      <td>658.0</td>\n",
       "      <td>217.0</td>\n",
       "      <td>6.3700</td>\n",
       "      <td>229200.0</td>\n",
       "    </tr>\n",
       "    <tr>\n",
       "      <th>11964</th>\n",
       "      <td>34.02</td>\n",
       "      <td>-117.43</td>\n",
       "      <td>33.0</td>\n",
       "      <td>3084.0</td>\n",
       "      <td>570.0</td>\n",
       "      <td>1753.0</td>\n",
       "      <td>449.0</td>\n",
       "      <td>3.0500</td>\n",
       "      <td>97800.0</td>\n",
       "    </tr>\n",
       "    <tr>\n",
       "      <th>5390</th>\n",
       "      <td>34.03</td>\n",
       "      <td>-118.38</td>\n",
       "      <td>36.0</td>\n",
       "      <td>2101.0</td>\n",
       "      <td>569.0</td>\n",
       "      <td>1756.0</td>\n",
       "      <td>527.0</td>\n",
       "      <td>2.9344</td>\n",
       "      <td>222100.0</td>\n",
       "    </tr>\n",
       "    <tr>\n",
       "      <th>860</th>\n",
       "      <td>37.58</td>\n",
       "      <td>-121.96</td>\n",
       "      <td>15.0</td>\n",
       "      <td>3575.0</td>\n",
       "      <td>597.0</td>\n",
       "      <td>1777.0</td>\n",
       "      <td>559.0</td>\n",
       "      <td>5.7192</td>\n",
       "      <td>283500.0</td>\n",
       "    </tr>\n",
       "    <tr>\n",
       "      <th>15795</th>\n",
       "      <td>37.77</td>\n",
       "      <td>-122.42</td>\n",
       "      <td>52.0</td>\n",
       "      <td>4226.0</td>\n",
       "      <td>1315.0</td>\n",
       "      <td>2619.0</td>\n",
       "      <td>1242.0</td>\n",
       "      <td>2.5755</td>\n",
       "      <td>325000.0</td>\n",
       "    </tr>\n",
       "  </tbody>\n",
       "</table>\n",
       "<p>20640 rows × 9 columns</p>\n",
       "</div>"
      ],
      "text/plain": [
       "       latitude  longitude  housing_median_age  total_rooms  total_bedrooms  \\\n",
       "20046     36.06    -119.01                25.0       1505.0             NaN   \n",
       "3024      35.14    -119.46                30.0       2943.0             NaN   \n",
       "15663     37.80    -122.44                52.0       3830.0             NaN   \n",
       "20484     34.28    -118.72                17.0       3051.0             NaN   \n",
       "9814      36.62    -121.93                34.0       2351.0             NaN   \n",
       "...         ...        ...                 ...          ...             ...   \n",
       "11284     33.78    -117.96                35.0       1330.0           201.0   \n",
       "11964     34.02    -117.43                33.0       3084.0           570.0   \n",
       "5390      34.03    -118.38                36.0       2101.0           569.0   \n",
       "860       37.58    -121.96                15.0       3575.0           597.0   \n",
       "15795     37.77    -122.42                52.0       4226.0          1315.0   \n",
       "\n",
       "       population  households  median_income  median_house_value  \n",
       "20046      1392.0       359.0         1.6812             47700.0  \n",
       "3024       1565.0       584.0         2.5313             45800.0  \n",
       "15663      1310.0       963.0         3.4801            500001.0  \n",
       "20484      1705.0       495.0         5.7376            218600.0  \n",
       "9814       1063.0       428.0         3.7250            278000.0  \n",
       "...           ...         ...            ...                 ...  \n",
       "11284       658.0       217.0         6.3700            229200.0  \n",
       "11964      1753.0       449.0         3.0500             97800.0  \n",
       "5390       1756.0       527.0         2.9344            222100.0  \n",
       "860        1777.0       559.0         5.7192            283500.0  \n",
       "15795      2619.0      1242.0         2.5755            325000.0  \n",
       "\n",
       "[20640 rows x 9 columns]"
      ]
     },
     "execution_count": 14,
     "metadata": {},
     "output_type": "execute_result"
    }
   ],
   "source": [
    "df_shuffled = df.iloc[idx]\n",
    "df_shuffled"
   ]
  },
  {
   "cell_type": "code",
   "execution_count": 15,
   "id": "b8441288",
   "metadata": {},
   "outputs": [
    {
     "data": {
      "text/html": [
       "<div>\n",
       "<style scoped>\n",
       "    .dataframe tbody tr th:only-of-type {\n",
       "        vertical-align: middle;\n",
       "    }\n",
       "\n",
       "    .dataframe tbody tr th {\n",
       "        vertical-align: top;\n",
       "    }\n",
       "\n",
       "    .dataframe thead th {\n",
       "        text-align: right;\n",
       "    }\n",
       "</style>\n",
       "<table border=\"1\" class=\"dataframe\">\n",
       "  <thead>\n",
       "    <tr style=\"text-align: right;\">\n",
       "      <th></th>\n",
       "      <th>latitude</th>\n",
       "      <th>longitude</th>\n",
       "      <th>housing_median_age</th>\n",
       "      <th>total_rooms</th>\n",
       "      <th>total_bedrooms</th>\n",
       "      <th>population</th>\n",
       "      <th>households</th>\n",
       "      <th>median_income</th>\n",
       "      <th>median_house_value</th>\n",
       "    </tr>\n",
       "  </thead>\n",
       "  <tbody>\n",
       "    <tr>\n",
       "      <th>20046</th>\n",
       "      <td>36.06</td>\n",
       "      <td>-119.01</td>\n",
       "      <td>25.0</td>\n",
       "      <td>1505.0</td>\n",
       "      <td>NaN</td>\n",
       "      <td>1392.0</td>\n",
       "      <td>359.0</td>\n",
       "      <td>1.6812</td>\n",
       "      <td>47700.0</td>\n",
       "    </tr>\n",
       "    <tr>\n",
       "      <th>3024</th>\n",
       "      <td>35.14</td>\n",
       "      <td>-119.46</td>\n",
       "      <td>30.0</td>\n",
       "      <td>2943.0</td>\n",
       "      <td>NaN</td>\n",
       "      <td>1565.0</td>\n",
       "      <td>584.0</td>\n",
       "      <td>2.5313</td>\n",
       "      <td>45800.0</td>\n",
       "    </tr>\n",
       "    <tr>\n",
       "      <th>15663</th>\n",
       "      <td>37.80</td>\n",
       "      <td>-122.44</td>\n",
       "      <td>52.0</td>\n",
       "      <td>3830.0</td>\n",
       "      <td>NaN</td>\n",
       "      <td>1310.0</td>\n",
       "      <td>963.0</td>\n",
       "      <td>3.4801</td>\n",
       "      <td>500001.0</td>\n",
       "    </tr>\n",
       "    <tr>\n",
       "      <th>20484</th>\n",
       "      <td>34.28</td>\n",
       "      <td>-118.72</td>\n",
       "      <td>17.0</td>\n",
       "      <td>3051.0</td>\n",
       "      <td>NaN</td>\n",
       "      <td>1705.0</td>\n",
       "      <td>495.0</td>\n",
       "      <td>5.7376</td>\n",
       "      <td>218600.0</td>\n",
       "    </tr>\n",
       "    <tr>\n",
       "      <th>9814</th>\n",
       "      <td>36.62</td>\n",
       "      <td>-121.93</td>\n",
       "      <td>34.0</td>\n",
       "      <td>2351.0</td>\n",
       "      <td>NaN</td>\n",
       "      <td>1063.0</td>\n",
       "      <td>428.0</td>\n",
       "      <td>3.7250</td>\n",
       "      <td>278000.0</td>\n",
       "    </tr>\n",
       "  </tbody>\n",
       "</table>\n",
       "</div>"
      ],
      "text/plain": [
       "       latitude  longitude  housing_median_age  total_rooms  total_bedrooms  \\\n",
       "20046     36.06    -119.01                25.0       1505.0             NaN   \n",
       "3024      35.14    -119.46                30.0       2943.0             NaN   \n",
       "15663     37.80    -122.44                52.0       3830.0             NaN   \n",
       "20484     34.28    -118.72                17.0       3051.0             NaN   \n",
       "9814      36.62    -121.93                34.0       2351.0             NaN   \n",
       "\n",
       "       population  households  median_income  median_house_value  \n",
       "20046      1392.0       359.0         1.6812             47700.0  \n",
       "3024       1565.0       584.0         2.5313             45800.0  \n",
       "15663      1310.0       963.0         3.4801            500001.0  \n",
       "20484      1705.0       495.0         5.7376            218600.0  \n",
       "9814       1063.0       428.0         3.7250            278000.0  "
      ]
     },
     "execution_count": 15,
     "metadata": {},
     "output_type": "execute_result"
    }
   ],
   "source": [
    "df_train = df_shuffled.iloc[:n_train].copy()\n",
    "df_val = df_shuffled.iloc[n_train:n_train+n_val].copy()\n",
    "df_test = df_shuffled.iloc[n_train+n_val:].copy()\n",
    "df_train.head()"
   ]
  },
  {
   "cell_type": "code",
   "execution_count": 16,
   "id": "a38feca1",
   "metadata": {},
   "outputs": [],
   "source": [
    "df_train = df_train.reset_index(drop=True)\n",
    "df_val = df_val.reset_index(drop=True)\n",
    "df_test = df_test.reset_index(drop=True)"
   ]
  },
  {
   "cell_type": "code",
   "execution_count": 17,
   "id": "f4dc91d1",
   "metadata": {},
   "outputs": [],
   "source": [
    "#Get our target variable y\n",
    "#We will use df_train to create our feature matrix X\n",
    "#We use log values\n",
    "y_train = np.log1p(df_train.median_house_value.values)\n",
    "y_val = np.log1p(df_val.median_house_value.values)\n",
    "y_test = np.log1p(df_test.median_house_value.values)"
   ]
  },
  {
   "cell_type": "code",
   "execution_count": 18,
   "id": "6f875ab7",
   "metadata": {},
   "outputs": [],
   "source": [
    "# delete the price or target variable y, to avoid using it in\n",
    "# our feature matrix which will cause our model to be perfect\n",
    "\n",
    "del df_train['median_house_value']\n",
    "del df_val['median_house_value']\n",
    "del df_test['median_house_value']"
   ]
  },
  {
   "cell_type": "code",
   "execution_count": 19,
   "id": "3945b041",
   "metadata": {},
   "outputs": [],
   "source": [
    "def train_linear_regression(X, y):\n",
    "    ones = np.ones(X.shape[0])\n",
    "    X = np.column_stack([ones, X])\n",
    "    \n",
    "    XTX = X.T.dot(X)\n",
    "    XTX_inv = np.linalg.inv(XTX)\n",
    "    w = XTX_inv.dot(X.T).dot(y)\n",
    "    \n",
    "    return w[0], w[1:]"
   ]
  },
  {
   "cell_type": "code",
   "execution_count": 20,
   "id": "5f3eb1ff",
   "metadata": {},
   "outputs": [],
   "source": [
    "def prepare_X(df, fillna_value):\n",
    "    df_num = df\n",
    "    df_num = df_num.fillna(fillna_value)\n",
    "    X = df_num.values\n",
    "    return X"
   ]
  },
  {
   "cell_type": "code",
   "execution_count": 21,
   "id": "766ff8d6",
   "metadata": {},
   "outputs": [],
   "source": [
    "def rmse(y, y_pred):\n",
    "    error = y_pred - y\n",
    "    mse = (error ** 2).mean()\n",
    "    return np.sqrt(mse)"
   ]
  },
  {
   "cell_type": "markdown",
   "id": "1c3a23e7",
   "metadata": {},
   "source": [
    "# Question 3"
   ]
  },
  {
   "cell_type": "code",
   "execution_count": null,
   "id": "d65e623e",
   "metadata": {},
   "outputs": [],
   "source": []
  },
  {
   "cell_type": "code",
   "execution_count": 22,
   "id": "de332625",
   "metadata": {},
   "outputs": [],
   "source": [
    "mean = df_train.total_bedrooms.mean()\n",
    "X_mean_train = prepare_X(df_train, fillna_value=mean)\n",
    "w0_mean, w_mean = train_linear_regression(X_mean_train, y_train)"
   ]
  },
  {
   "cell_type": "code",
   "execution_count": 23,
   "id": "bb208795",
   "metadata": {},
   "outputs": [],
   "source": [
    "X_mean_val = prepare_X(df_val, fillna_value=mean)\n",
    "y_mean_pred_val = w0_mean + X_mean_val.dot(w_mean)"
   ]
  },
  {
   "cell_type": "code",
   "execution_count": 24,
   "id": "44f5665f",
   "metadata": {},
   "outputs": [
    {
     "data": {
      "text/plain": [
       "0.33"
      ]
     },
     "execution_count": 24,
     "metadata": {},
     "output_type": "execute_result"
    }
   ],
   "source": [
    "np.round(rmse(y_val, y_mean_pred_val),2)"
   ]
  },
  {
   "cell_type": "code",
   "execution_count": null,
   "id": "706dbd1d",
   "metadata": {},
   "outputs": [],
   "source": []
  },
  {
   "cell_type": "code",
   "execution_count": 25,
   "id": "6c82d30f",
   "metadata": {},
   "outputs": [],
   "source": [
    "zero = 0\n",
    "X_null_train = prepare_X(df_train, fillna_value=zero)\n",
    "w0_null, w_null = train_linear_regression(X_null_train, y_train)"
   ]
  },
  {
   "cell_type": "code",
   "execution_count": 26,
   "id": "2cc49630",
   "metadata": {},
   "outputs": [],
   "source": [
    "X_null_val = prepare_X(df_val, fillna_value=zero)\n",
    "y_null_pred_val = w0_null + X_null_val.dot(w_null)"
   ]
  },
  {
   "cell_type": "code",
   "execution_count": 27,
   "id": "b2e0a4a7",
   "metadata": {},
   "outputs": [
    {
     "data": {
      "text/plain": [
       "0.33"
      ]
     },
     "execution_count": 27,
     "metadata": {},
     "output_type": "execute_result"
    }
   ],
   "source": [
    "np.round(rmse(y_val, y_null_pred_val),2)"
   ]
  },
  {
   "cell_type": "markdown",
   "id": "b2613128",
   "metadata": {},
   "source": [
    "# Question 4"
   ]
  },
  {
   "cell_type": "code",
   "execution_count": 28,
   "id": "37644eb9",
   "metadata": {},
   "outputs": [],
   "source": [
    "def train_linear_regression_reg(X, y, r):\n",
    "    ones = np.ones(X.shape[0]) #we add an additional column of ones, since we merge w0 tu our weights vector \n",
    "    X = np.column_stack([ones, X])\n",
    "    \n",
    "    XTX = X.T.dot(X)\n",
    "    XTX = XTX + r * np.eye(XTX.shape[0])\n",
    "    \n",
    "    XTX_inv = np.linalg.inv(XTX)\n",
    "    w = XTX_inv.dot(X.T).dot(y)\n",
    "    \n",
    "    return w[0], w[1:]"
   ]
  },
  {
   "cell_type": "code",
   "execution_count": 29,
   "id": "700318ae",
   "metadata": {},
   "outputs": [
    {
     "name": "stdout",
     "output_type": "stream",
     "text": [
      "0.0 -11.686975241966874 0.33\n",
      "1e-06 -11.686959175914195 0.33\n",
      "0.0001 -11.685368865172869 0.33\n",
      "0.001 -11.670931318186465 0.33\n",
      "0.01 -11.52849358554413 0.33\n",
      "0.1 -10.274500281959998 0.33\n",
      "1 -4.920480897735361 0.33\n",
      "5 -1.4820957456410375 0.34\n",
      "10 -0.7899311832121201 0.34\n"
     ]
    }
   ],
   "source": [
    "for r in [0.0, 0.000001, 0.0001, 0.001, 0.01, 0.1, 1, 5, 10]:\n",
    "\n",
    "    #Train part\n",
    "    w0, w = train_linear_regression_reg(X_null_train, y_train, r=r)\n",
    "    y_null_reg_val = w0 + X_null_val.dot(w)\n",
    "    \n",
    "    rmse_val = np.round(rmse(y_val, y_null_reg_val),2)\n",
    "    \n",
    "    print(r, w0, rmse_val)"
   ]
  },
  {
   "cell_type": "markdown",
   "id": "f361b74d",
   "metadata": {},
   "source": [
    "# Question 5"
   ]
  },
  {
   "cell_type": "code",
   "execution_count": 30,
   "id": "aca0e4a2",
   "metadata": {},
   "outputs": [
    {
     "name": "stdout",
     "output_type": "stream",
     "text": [
      "0 -11.900382138209075 0.34\n",
      "1 -11.73275737323685 0.34\n",
      "2 -11.806729360641791 0.33\n",
      "3 -11.587900347601405 0.34\n",
      "4 -11.389470587948361 0.34\n",
      "5 -11.44711427574237 0.34\n",
      "6 -11.370516351286714 0.35\n",
      "7 -12.473448918846358 0.34\n",
      "8 -11.80028742960766 0.35\n",
      "9 -11.459046830615033 0.34\n"
     ]
    }
   ],
   "source": [
    "rmse_list = []\n",
    "\n",
    "for r in [0, 1, 2, 3, 4, 5, 6, 7, 8, 9]:\n",
    "\n",
    "    idx = np.arange(n)\n",
    "    np.random.seed(r)\n",
    "    np.random.shuffle(idx)\n",
    "\n",
    "    df_shuffled = df.iloc[idx]\n",
    "    \n",
    "    df_train = df_shuffled.iloc[:n_train].copy()\n",
    "    df_val = df_shuffled.iloc[n_train:n_train+n_val].copy()\n",
    "    df_test = df_shuffled.iloc[n_train+n_val:].copy()\n",
    "\n",
    "    df_train = df_train.reset_index(drop=True)\n",
    "    df_val = df_val.reset_index(drop=True)\n",
    "    df_test = df_test.reset_index(drop=True)\n",
    "    \n",
    "    y_train = np.log1p(df_train.median_house_value.values)\n",
    "    y_val = np.log1p(df_val.median_house_value.values)\n",
    "    y_test = np.log1p(df_test.median_house_value.values)\n",
    "    \n",
    "    del df_train['median_house_value']\n",
    "    del df_val['median_house_value']\n",
    "    del df_test['median_house_value']\n",
    "    \n",
    "    X_null_train = prepare_X(df_train, fillna_value=0)\n",
    "    w0, w = train_linear_regression(X_null_train, y_train)\n",
    "    \n",
    "    X_null_val = prepare_X(df_val, fillna_value=0)\n",
    "    y_null_reg_val = w0 + X_null_val.dot(w)\n",
    "    rmse_val = np.round(rmse(y_val, y_null_reg_val),2)\n",
    "    \n",
    "    rmse_list.append(rmse_val)\n",
    "    \n",
    "    print(r, w0, rmse_val)"
   ]
  },
  {
   "cell_type": "code",
   "execution_count": 31,
   "id": "f17357bc",
   "metadata": {},
   "outputs": [
    {
     "data": {
      "text/plain": [
       "[0.34, 0.34, 0.33, 0.34, 0.34, 0.34, 0.35, 0.34, 0.35, 0.34]"
      ]
     },
     "execution_count": 31,
     "metadata": {},
     "output_type": "execute_result"
    }
   ],
   "source": [
    "rmse_list"
   ]
  },
  {
   "cell_type": "code",
   "execution_count": 32,
   "id": "c459ed1b",
   "metadata": {},
   "outputs": [
    {
     "data": {
      "text/plain": [
       "0.005"
      ]
     },
     "execution_count": 32,
     "metadata": {},
     "output_type": "execute_result"
    }
   ],
   "source": [
    "np.round(np.std(rmse_list),3)"
   ]
  },
  {
   "cell_type": "markdown",
   "id": "d63aa8ed",
   "metadata": {},
   "source": [
    "# Question 6"
   ]
  },
  {
   "cell_type": "code",
   "execution_count": 33,
   "id": "ee2a4767",
   "metadata": {},
   "outputs": [],
   "source": [
    "idx = np.arange(n)\n",
    "np.random.seed(r)\n",
    "np.random.shuffle(idx)\n",
    "\n",
    "df_shuffled = df.iloc[idx]\n",
    "\n",
    "df_train = df_shuffled.iloc[:n_train].copy()\n",
    "df_val = df_shuffled.iloc[n_train:n_train+n_val].copy()\n",
    "df_test = df_shuffled.iloc[n_train+n_val:].copy()\n",
    "\n",
    "frames = [df_train, df_val]\n",
    "\n",
    "df_train_val = pd.concat(frames)\n",
    "\n",
    "df_train_val = df_train_val.reset_index(drop=True)\n",
    "df_test =df_test.reset_index(drop=True)\n",
    "\n",
    "y_train_val = np.log1p(df_train_val.median_house_value.values)\n",
    "y_test = np.log1p(df_test.median_house_value.values)\n",
    "\n",
    "del df_train_val['median_house_value']\n",
    "del df_test['median_house_value']"
   ]
  },
  {
   "cell_type": "code",
   "execution_count": 34,
   "id": "a967b8d3",
   "metadata": {},
   "outputs": [
    {
     "data": {
      "text/plain": [
       "0.35"
      ]
     },
     "execution_count": 34,
     "metadata": {},
     "output_type": "execute_result"
    }
   ],
   "source": [
    "X_null_train_val = prepare_X(df_train_val, fillna_value=0)\n",
    "w0_train_val, w_train_val = train_linear_regression_reg(X_null_train_val, y_train_val, r=0.001)\n",
    "\n",
    "X_null_test = prepare_X(df_test, fillna_value=0)\n",
    "y_null_pred_test = w0_train_val + X_null_test.dot(w_train_val)\n",
    "\n",
    "np.round(rmse(y_test, y_null_pred_test),2)"
   ]
  },
  {
   "cell_type": "code",
   "execution_count": null,
   "id": "559ea05c",
   "metadata": {},
   "outputs": [],
   "source": []
  },
  {
   "cell_type": "code",
   "execution_count": null,
   "id": "ac2aec69",
   "metadata": {},
   "outputs": [],
   "source": []
  },
  {
   "cell_type": "code",
   "execution_count": null,
   "id": "55b5eabc",
   "metadata": {},
   "outputs": [],
   "source": []
  }
 ],
 "metadata": {
  "kernelspec": {
   "display_name": "Python 3 (ipykernel)",
   "language": "python",
   "name": "python3"
  },
  "language_info": {
   "codemirror_mode": {
    "name": "ipython",
    "version": 3
   },
   "file_extension": ".py",
   "mimetype": "text/x-python",
   "name": "python",
   "nbconvert_exporter": "python",
   "pygments_lexer": "ipython3",
   "version": "3.9.12"
  }
 },
 "nbformat": 4,
 "nbformat_minor": 5
}
